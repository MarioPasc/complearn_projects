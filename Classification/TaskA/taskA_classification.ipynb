{
 "cells": [
  {
   "cell_type": "markdown",
   "metadata": {},
   "source": [
    "# Computational Learning: Classification, Task A"
   ]
  },
  {
   "cell_type": "markdown",
   "metadata": {},
   "source": [
    "## Code setup"
   ]
  },
  {
   "cell_type": "markdown",
   "metadata": {},
   "source": [
    "*This is a setup for the code execution in the user's computer, made to provide an easy execution and ensure the reproducibility of the results showcased in this work*"
   ]
  },
  {
   "cell_type": "code",
   "execution_count": 1,
   "metadata": {},
   "outputs": [],
   "source": [
    "# Basic libraries that come with every Python installation\n",
    "import os\n",
    "import logging\n",
    "import subprocess\n",
    "import sys\n",
    "import importlib\n",
    "from typing import Union, List, Dict"
   ]
  },
  {
   "cell_type": "markdown",
   "metadata": {},
   "source": [
    "These are global variables that can eb changed by the user in order to personalize the execution of the code."
   ]
  },
  {
   "cell_type": "code",
   "execution_count": 15,
   "metadata": {},
   "outputs": [],
   "source": [
    "# Folder used to download any necessary data to perform the study (datasets). You may use a relative or absolute path of your computer.\n",
    "INPUT_DATA_FOLDER = \"/home/mariopasc/Uni/Computational_Learning/Lab2/taskA_output\"\n",
    "\n",
    "# Output folder to store the results of the study\n",
    "OUTPUT_FOLDER = \".\""
   ]
  },
  {
   "cell_type": "markdown",
   "metadata": {},
   "source": [
    "### Error management output"
   ]
  },
  {
   "cell_type": "markdown",
   "metadata": {},
   "source": [
    "Error management with a `.log` file. "
   ]
  },
  {
   "cell_type": "code",
   "execution_count": 12,
   "metadata": {},
   "outputs": [],
   "source": [
    "# Set up error logging to \"errors.log\"\n",
    "logging.basicConfig(\n",
    "    filename=\"errors.log\",\n",
    "    level=logging.ERROR,\n",
    "    format=\"%(asctime)s - %(levelname)s - %(message)s\"\n",
    ")"
   ]
  },
  {
   "cell_type": "markdown",
   "metadata": {},
   "source": [
    "### Directory tree"
   ]
  },
  {
   "cell_type": "markdown",
   "metadata": {},
   "source": [
    "Set up the directory folder tree"
   ]
  },
  {
   "cell_type": "code",
   "execution_count": 64,
   "metadata": {},
   "outputs": [],
   "source": [
    "# Create the folder structure needed for the analysis of the results.\n",
    "def create_folder_structure(input_data_folder: Union[str, os.PathLike], output_folder: Union[str, os.PathLike]) -> None:\n",
    "    \"\"\"\n",
    "    Creates a folder structure with \"data/train/metadata\", \"data/train/ground_truth\",\n",
    "    and \"data/test\" subfolders in the specified output directory.\n",
    "\n",
    "    Parameters:\n",
    "    output_folder (Union[str, os.PathLike]): The path to the output directory where folders will be created.\n",
    "\n",
    "    Returns:\n",
    "    None\n",
    "\n",
    "    Raises:\n",
    "    OSError: If there is an error creating directories, logs the error in \"errors.log\".\n",
    "    \"\"\"\n",
    "    try:\n",
    "        # Define base paths for the folder structure\n",
    "        base_data_folder = os.path.join(input_data_folder, \"data\")\n",
    "        train_metadata_folder = os.path.join(base_data_folder, \"train\", \"metadata\")\n",
    "        train_ground_truth_folder = os.path.join(base_data_folder, \"train\", \"ground_truth\")\n",
    "        test_folder = os.path.join(base_data_folder, \"test\")\n",
    "\n",
    "        base_results_folder = os.path.join(output_folder, \"results\")\n",
    "\n",
    "        # Create all necessary subfolders\n",
    "        os.makedirs(train_metadata_folder, exist_ok=True)\n",
    "        os.makedirs(train_ground_truth_folder, exist_ok=True)\n",
    "        os.makedirs(test_folder, exist_ok=True)\n",
    "\n",
    "        os.makedirs(base_results_folder, exist_ok=True)\n",
    "\n",
    "    except OSError as e:\n",
    "        # Log any errors that occur during directory creation\n",
    "        logging.error(f\"Failed to create folder structure in {output_folder}: {e}\")\n",
    "    \n",
    "\n",
    "create_folder_structure(input_data_folder=INPUT_DATA_FOLDER, output_folder=OUTPUT_FOLDER)\n",
    "\n",
    "OUTPUT_FOLDER = os.path.join(OUTPUT_FOLDER, \"results\")"
   ]
  },
  {
   "cell_type": "markdown",
   "metadata": {},
   "source": [
    "### Install necessary libraries"
   ]
  },
  {
   "cell_type": "markdown",
   "metadata": {},
   "source": [
    "The following code checks if the user alredy have the necessary libraries for execution installed. If not, it proceeds with their installation."
   ]
  },
  {
   "cell_type": "code",
   "execution_count": 18,
   "metadata": {},
   "outputs": [],
   "source": [
    "def install_libraries(libraries: List[str]) -> None:\n",
    "    \"\"\"\n",
    "    Installs the specified libraries using pip, checking first if they are already installed.\n",
    "    If running in Google Colab, it uses `!pip install` for compatibility.\n",
    "\n",
    "    Parameters:\n",
    "    libraries (List[str]): A list of library names to install.\n",
    "\n",
    "    Returns:\n",
    "    None\n",
    "\n",
    "    Raises:\n",
    "    Exception: If an error occurs during installation, logs the error in \"errors.log\".\n",
    "    \"\"\"\n",
    "    # Check if running in Google Colab\n",
    "    in_colab = 'google.colab' in sys.modules\n",
    "\n",
    "    for library in libraries:\n",
    "        try:\n",
    "            # Check if the library is already installed by trying to import it\n",
    "            importlib.import_module(library)\n",
    "            print(f\"Library {library} already installed.\")\n",
    "        \n",
    "        except ImportError:\n",
    "            # If the library is not installed, proceed with installation\n",
    "            try:\n",
    "                if in_colab:\n",
    "                    # Use Google Colab's `!pip install` syntax\n",
    "                    subprocess.run(f'!pip install {library}', shell=True, check=True)\n",
    "                else:\n",
    "                    # Standard pip install command\n",
    "                    subprocess.check_call([sys.executable, \"-m\", \"pip\", \"install\", library])\n",
    "\n",
    "                print(f\"Installed {library} successfully.\")\n",
    "                \n",
    "            except subprocess.CalledProcessError as e:\n",
    "                # Log any errors during installation\n",
    "                logging.error(f\"Failed to install {library}: {e}\")"
   ]
  },
  {
   "cell_type": "code",
   "execution_count": 71,
   "metadata": {},
   "outputs": [
    {
     "name": "stdout",
     "output_type": "stream",
     "text": [
      "Library requests already installed.\n",
      "Requirement already satisfied: SciencePlots in /home/mariopasc/Python/miniconda3/envs/coronariografias/lib/python3.10/site-packages (2.1.1)\n",
      "Requirement already satisfied: matplotlib in /home/mariopasc/Python/miniconda3/envs/coronariografias/lib/python3.10/site-packages (from SciencePlots) (3.9.0)\n",
      "Requirement already satisfied: contourpy>=1.0.1 in /home/mariopasc/Python/miniconda3/envs/coronariografias/lib/python3.10/site-packages (from matplotlib->SciencePlots) (1.2.1)\n",
      "Requirement already satisfied: cycler>=0.10 in /home/mariopasc/Python/miniconda3/envs/coronariografias/lib/python3.10/site-packages (from matplotlib->SciencePlots) (0.12.1)\n",
      "Requirement already satisfied: fonttools>=4.22.0 in /home/mariopasc/Python/miniconda3/envs/coronariografias/lib/python3.10/site-packages (from matplotlib->SciencePlots) (4.53.0)\n",
      "Requirement already satisfied: kiwisolver>=1.3.1 in /home/mariopasc/Python/miniconda3/envs/coronariografias/lib/python3.10/site-packages (from matplotlib->SciencePlots) (1.4.5)\n",
      "Requirement already satisfied: numpy>=1.23 in /home/mariopasc/Python/miniconda3/envs/coronariografias/lib/python3.10/site-packages (from matplotlib->SciencePlots) (1.26.4)\n",
      "Requirement already satisfied: packaging>=20.0 in /home/mariopasc/Python/miniconda3/envs/coronariografias/lib/python3.10/site-packages (from matplotlib->SciencePlots) (24.0)\n",
      "Requirement already satisfied: pillow>=8 in /home/mariopasc/Python/miniconda3/envs/coronariografias/lib/python3.10/site-packages (from matplotlib->SciencePlots) (10.3.0)\n",
      "Requirement already satisfied: pyparsing>=2.3.1 in /home/mariopasc/Python/miniconda3/envs/coronariografias/lib/python3.10/site-packages (from matplotlib->SciencePlots) (3.1.2)\n",
      "Requirement already satisfied: python-dateutil>=2.7 in /home/mariopasc/Python/miniconda3/envs/coronariografias/lib/python3.10/site-packages (from matplotlib->SciencePlots) (2.9.0)\n",
      "Requirement already satisfied: six>=1.5 in /home/mariopasc/Python/miniconda3/envs/coronariografias/lib/python3.10/site-packages (from python-dateutil>=2.7->matplotlib->SciencePlots) (1.16.0)\n",
      "Installed SciencePlots successfully.\n",
      "Library matplotlib already installed.\n",
      "Library pandas already installed.\n",
      "Library numpy already installed.\n"
     ]
    },
    {
     "data": {
      "text/plain": [
       "\"\\nQuitar los ejes derecho y superior de las gráficas\\n\\nax = plt.subplot(111)\\n(...)\\nax.spines[['right', 'top']].set_visible(False)\\nax.get_xaxis().tick_bottom()\\nax.get_yaxis().tick_left()\\n\""
      ]
     },
     "execution_count": 71,
     "metadata": {},
     "output_type": "execute_result"
    }
   ],
   "source": [
    "LIBRARIES = ['requests', 'SciencePlots', 'matplotlib', 'pandas', 'numpy']\n",
    "\n",
    "install_libraries(libraries=LIBRARIES)\n",
    "\n",
    "import requests\n",
    "import numpy as np\n",
    "import pandas as pd\n",
    "import matplotlib.pyplot as plt\n",
    "import scienceplots\n",
    "plt.style.use(['science', 'ieee', 'std-colors'])\n",
    "plt.rcParams['font.size'] = 10\n",
    "plt.rcParams.update({'figure.dpi': '100'})\n",
    "\n",
    "\"\"\"\n",
    "Quitar los ejes derecho y superior de las gráficas\n",
    "\n",
    "ax = plt.subplot(111)\n",
    "(...)\n",
    "ax.spines[['right', 'top']].set_visible(False)\n",
    "ax.get_xaxis().tick_bottom()\n",
    "ax.get_yaxis().tick_left()\n",
    "\"\"\""
   ]
  },
  {
   "cell_type": "markdown",
   "metadata": {},
   "source": [
    "## Introduction"
   ]
  },
  {
   "cell_type": "markdown",
   "metadata": {},
   "source": [
    "## Systems and Methods"
   ]
  },
  {
   "cell_type": "markdown",
   "metadata": {},
   "source": [
    "### Materials"
   ]
  },
  {
   "cell_type": "markdown",
   "metadata": {},
   "source": [
    "Download the ISISC dataset (2019). The data may be found in this [link](https://challenge.isic-archive.com/data/#2019)."
   ]
  },
  {
   "cell_type": "code",
   "execution_count": 26,
   "metadata": {},
   "outputs": [
    {
     "name": "stdout",
     "output_type": "stream",
     "text": [
      "Downloaded train_metadata to /home/mariopasc/Uni/Computational_Learning/Lab2/taskA_output/data/train/metadata/ISIC_2019_Training_Metadata.csv.\n",
      "Downloaded train_ground_truth to /home/mariopasc/Uni/Computational_Learning/Lab2/taskA_output/data/train/ground_truth/ISIC_2019_Training_GroundTruth.csv.\n",
      "Downloaded test_metadata to /home/mariopasc/Uni/Computational_Learning/Lab2/taskA_output/data/test/ISIC_2019_Test_Metadata.csv.\n"
     ]
    }
   ],
   "source": [
    "def download_isic_dataset(input_data_folder: Union[str, os.PathLike]) -> Dict[str, str]:\n",
    "    \"\"\"\n",
    "    Downloads ISIC Challenge dataset files into the specified folder structure.\n",
    "\n",
    "    Parameters:\n",
    "    output_folder (Union[str, os.PathLike]): The path to the output directory where files will be saved.\n",
    "\n",
    "    Returns:\n",
    "    None\n",
    "\n",
    "    Raises:\n",
    "    Exception: If an error occurs during file download, logs the error in \"errors.log\".\n",
    "    \"\"\"\n",
    "    # URLs for the ISIC Challenge dataset\n",
    "    urls = {\n",
    "        \"train_metadata\": \"https://isic-challenge-data.s3.amazonaws.com/2019/ISIC_2019_Training_Metadata.csv\",\n",
    "        \"train_ground_truth\": \"https://isic-challenge-data.s3.amazonaws.com/2019/ISIC_2019_Training_GroundTruth.csv\",\n",
    "        \"test_metadata\": \"https://isic-challenge-data.s3.amazonaws.com/2019/ISIC_2019_Test_Metadata.csv\"\n",
    "    }\n",
    "    \n",
    "    # File paths where each file should be saved\n",
    "    paths = {\n",
    "        \"train_metadata\": os.path.join(input_data_folder, \"data\", \"train\", \"metadata\", \"ISIC_2019_Training_Metadata.csv\"),\n",
    "        \"train_ground_truth\": os.path.join(input_data_folder, \"data\", \"train\", \"ground_truth\", \"ISIC_2019_Training_GroundTruth.csv\"),\n",
    "        \"test_metadata\": os.path.join(input_data_folder, \"data\", \"test\", \"ISIC_2019_Test_Metadata.csv\")\n",
    "    }\n",
    "\n",
    "    for key, url in urls.items():\n",
    "        try:\n",
    "            # Download file and save it to the corresponding path\n",
    "            response = requests.get(url)\n",
    "            response.raise_for_status()  # Raises HTTPError for bad responses (4xx, 5xx)\n",
    "            \n",
    "            # Write file content to the destination path\n",
    "            with open(paths[key], \"wb\") as file:\n",
    "                file.write(response.content)\n",
    "            print(f\"Downloaded {key} to {paths[key]}.\")\n",
    "\n",
    "        except Exception as e:\n",
    "            # Log any errors during download\n",
    "            logging.error(f\"Failed to download {key} from {url}: {e}\")\n",
    "\n",
    "    return paths\n",
    "\n",
    "data_paths = download_isic_dataset(input_data_folder=INPUT_DATA_FOLDER)"
   ]
  },
  {
   "cell_type": "markdown",
   "metadata": {},
   "source": [
    "### Methodology"
   ]
  },
  {
   "cell_type": "markdown",
   "metadata": {},
   "source": [
    "#### Exploratory Data Analysis of the Target Variable"
   ]
  },
  {
   "cell_type": "code",
   "execution_count": 72,
   "metadata": {},
   "outputs": [
    {
     "data": {
      "image/png": "[encoded data removed]",
      "text/plain": [
       "<Figure size 1000x600 with 1 Axes>"
      ]
     },
     "metadata": {},
     "output_type": "display_data"
    }
   ],
   "source": [
    "def get_value_counts_per_diagnostic_category(\n",
    "    csv_path: str, plot: bool = True, **plot_kwargs\n",
    ") -> pd.Series:\n",
    "    \"\"\"\n",
    "    Given a ground truth CSV path, returns the counts per target class.\n",
    "    Assumes a dummy encoding of the variables and that the first column is the ID of the sample.\n",
    "\n",
    "    Parameters:\n",
    "    -------------\n",
    "    csv_path (str): Path to the ground truth csv\n",
    "    plot (bool): Whether to plot the distribution or not\n",
    "    \n",
    "    Returns:\n",
    "    -------------\n",
    "    pd.Series: Series object with indexes as classes and values as sample counts per class\n",
    "    \"\"\"\n",
    "    train_ground_truth = pd.read_csv(csv_path)\n",
    "    counts = train_ground_truth.iloc[:, 1:].apply(lambda x: sum(x)).sort_values(ascending=False)\n",
    "    \n",
    "    # If plot is True, pass additional kwargs to the plotting function\n",
    "    if plot:\n",
    "        plot_value_counts_per_diagnostic_category(counts=counts, **plot_kwargs)\n",
    "\n",
    "    return counts\n",
    "\n",
    "def plot_value_counts_per_diagnostic_category(\n",
    "    counts: pd.Series, save: bool = True, output: str = OUTPUT_FOLDER\n",
    ") -> None:\n",
    "    \"\"\"\n",
    "    Plots the distribution of counts per target class.\n",
    "\n",
    "    Parameters:\n",
    "    -------------\n",
    "    counts (pd.Series): Series containing count values for each class\n",
    "    save (bool): Whether to save the plot as a PDF\n",
    "    output (str): Path to the output folder where the plot will be saved\n",
    "    \n",
    "    Returns:\n",
    "    -------------\n",
    "    None\n",
    "    \"\"\"\n",
    "    plt.figure(figsize=(10,6))\n",
    "    ax = plt.subplot(111)\n",
    "    plt.bar(x=counts.index, height=counts.values)\n",
    "    ax.spines[['right', 'top']].set_visible(False)\n",
    "    ax.get_xaxis().tick_bottom()\n",
    "    ax.get_yaxis().tick_left()\n",
    "\n",
    "    plt.title(\"Value counts of Diagnostic Categories\")\n",
    "    plt.xlabel(\"Diagnostic Categories\")\n",
    "    plt.ylabel(\"Counts\")\n",
    "    if save: \n",
    "        os.makedirs(output, exist_ok=True)\n",
    "        plt.savefig(os.path.join(output, \"counts_per_target_class.pdf\"))\n",
    "    plt.show()\n",
    "\n",
    "# Call\n",
    "\n",
    "counts = get_value_counts_per_diagnostic_category(\n",
    "    csv_path=data_paths[\"train_ground_truth\"],\n",
    "    plot=True,\n",
    "    save=True,\n",
    "    output=OUTPUT_FOLDER\n",
    ")"
   ]
  }
 ],
 "metadata": {
  "kernelspec": {
   "display_name": "coronariografias",
   "language": "python",
   "name": "python3"
  },
  "language_info": {
   "codemirror_mode": {
    "name": "ipython",
    "version": 3
   },
   "file_extension": ".py",
   "mimetype": "text/x-python",
   "name": "python",
   "nbconvert_exporter": "python",
   "pygments_lexer": "ipython3",
   "version": "3.10.14"
  }
 },
 "nbformat": 4,
 "nbformat_minor": 2
}
