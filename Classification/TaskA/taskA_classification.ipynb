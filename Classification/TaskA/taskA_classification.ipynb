{
 "cells": [
  {
   "cell_type": "markdown",
   "metadata": {},
   "source": [
    "# Computational Learning: Classification, Task A"
   ]
  },
  {
   "cell_type": "markdown",
   "metadata": {},
   "source": [
    "## Code setup"
   ]
  },
  {
   "cell_type": "markdown",
   "metadata": {},
   "source": [
    "*This is a setup for the code execution in the user's computer, made to provide an easy execution and ensure the reproducibility of the results showcased in this work*"
   ]
  },
  {
   "cell_type": "code",
   "execution_count": 1,
   "metadata": {},
   "outputs": [],
   "source": [
    "# Basic libraries that come with every Python installation\n",
    "import os\n",
    "import logging\n",
    "import subprocess\n",
    "import sys\n",
    "import importlib\n",
    "from typing import Union, List, Dict"
   ]
  },
  {
   "cell_type": "markdown",
   "metadata": {},
   "source": [
    "These are global variables that can eb changed by the user in order to personalize the execution of the code."
   ]
  },
  {
   "cell_type": "code",
   "execution_count": 10,
   "metadata": {},
   "outputs": [],
   "source": [
    "# Folder used to download any necessary data to perform the study (datasets). You may use a relative or absolute path of your computer.\n",
    "INPUT_DATA_FOLDER = \"/home/mariopasc/Uni/Computational_Learning/Lab2/taskA_output\"\n",
    "\n",
    "# Output folder to store the results of the study\n",
    "OUTPUT_FOLDER = \".\""
   ]
  },
  {
   "cell_type": "markdown",
   "metadata": {},
   "source": [
    "### Error management output"
   ]
  },
  {
   "cell_type": "markdown",
   "metadata": {},
   "source": [
    "Error management with a `.log` file. "
   ]
  },
  {
   "cell_type": "code",
   "execution_count": 12,
   "metadata": {},
   "outputs": [],
   "source": [
    "# Set up error logging to \"errors.log\"\n",
    "logging.basicConfig(\n",
    "    filename=\"errors.log\",\n",
    "    level=logging.ERROR,\n",
    "    format=\"%(asctime)s - %(levelname)s - %(message)s\"\n",
    ")"
   ]
  },
  {
   "cell_type": "markdown",
   "metadata": {},
   "source": [
    "### Directory tree"
   ]
  },
  {
   "cell_type": "markdown",
   "metadata": {},
   "source": [
    "Set up the directory folder tree"
   ]
  },
  {
   "cell_type": "code",
   "execution_count": 14,
   "metadata": {},
   "outputs": [],
   "source": [
    "# Create the folder structure needed for the analysis of the results.\n",
    "def create_folder_structure(input_data_folder: Union[str, os.PathLike], output_folder: Union[str, os.PathLike]) -> None:\n",
    "    \"\"\"\n",
    "    Creates a folder structure with \"data/train/metadata\", \"data/train/ground_truth\",\n",
    "    and \"data/test\" subfolders in the specified output directory.\n",
    "\n",
    "    Parameters:\n",
    "    output_folder (Union[str, os.PathLike]): The path to the output directory where folders will be created.\n",
    "\n",
    "    Returns:\n",
    "    None\n",
    "\n",
    "    Raises:\n",
    "    OSError: If there is an error creating directories, logs the error in \"errors.log\".\n",
    "    \"\"\"\n",
    "    try:\n",
    "        # Define base paths for the folder structure\n",
    "        base_data_folder = os.path.join(input_data_folder, \"data\")\n",
    "        train_metadata_folder = os.path.join(base_data_folder, \"train\", \"metadata\")\n",
    "        train_ground_truth_folder = os.path.join(base_data_folder, \"train\", \"ground_truth\")\n",
    "        test_folder = os.path.join(base_data_folder, \"test\")\n",
    "\n",
    "        base_results_folder = os.path.join(output_folder, \"results\")\n",
    "\n",
    "        # Create all necessary subfolders\n",
    "        os.makedirs(train_metadata_folder, exist_ok=True)\n",
    "        os.makedirs(train_ground_truth_folder, exist_ok=True)\n",
    "        os.makedirs(test_folder, exist_ok=True)\n",
    "\n",
    "        os.makedirs(base_results_folder, exist_ok=True)\n",
    "\n",
    "    except OSError as e:\n",
    "        # Log any errors that occur during directory creation\n",
    "        logging.error(f\"Failed to create folder structure in {output_folder}: {e}\")\n",
    "\n",
    "create_folder_structure(input_data_folder=INPUT_DATA_FOLDER, output_folder=OUTPUT_FOLDER)"
   ]
  },
  {
   "cell_type": "markdown",
   "metadata": {},
   "source": [
    "### Install necessary libraries"
   ]
  },
  {
   "cell_type": "markdown",
   "metadata": {},
   "source": [
    "The following code checks if the user alredy have the necessary libraries for execution installed. If not, it proceeds with their installation."
   ]
  },
  {
   "cell_type": "code",
   "execution_count": 20,
   "metadata": {},
   "outputs": [],
   "source": [
    "def install_libraries(libraries: List[str]) -> None:\n",
    "    \"\"\"\n",
    "    Installs the specified libraries using pip, checking first if they are already installed.\n",
    "    If running in Google Colab, it uses `!pip install` for compatibility.\n",
    "\n",
    "    Parameters:\n",
    "    libraries (List[str]): A list of library names to install.\n",
    "\n",
    "    Returns:\n",
    "    None\n",
    "\n",
    "    Raises:\n",
    "    Exception: If an error occurs during installation, logs the error in \"errors.log\".\n",
    "    \"\"\"\n",
    "    # Check if running in Google Colab\n",
    "    in_colab = 'google.colab' in sys.modules\n",
    "\n",
    "    for library in libraries:\n",
    "        try:\n",
    "            # Check if the library is already installed by trying to import it\n",
    "            importlib.import_module(library)\n",
    "            print(f\"Library {library} already installed.\")\n",
    "        \n",
    "        except ImportError:\n",
    "            # If the library is not installed, proceed with installation\n",
    "            try:\n",
    "                if in_colab:\n",
    "                    # Use Google Colab's `!pip install` syntax\n",
    "                    subprocess.run(f'!pip install {library}', shell=True, check=True)\n",
    "                else:\n",
    "                    # Standard pip install command\n",
    "                    subprocess.check_call([sys.executable, \"-m\", \"pip\", \"install\", library])\n",
    "\n",
    "                print(f\"Installed {library} successfully.\")\n",
    "                \n",
    "            except subprocess.CalledProcessError as e:\n",
    "                # Log any errors during installation\n",
    "                logging.error(f\"Failed to install {library}: {e}\")"
   ]
  },
  {
   "cell_type": "code",
   "execution_count": 21,
   "metadata": {},
   "outputs": [
    {
     "name": "stdout",
     "output_type": "stream",
     "text": [
      "Library requests already installed.\n"
     ]
    }
   ],
   "source": [
    "LIBRARIES = ['requests']\n",
    "\n",
    "install_libraries(libraries=LIBRARIES)\n",
    "\n",
    "import requests"
   ]
  },
  {
   "cell_type": "markdown",
   "metadata": {},
   "source": [
    "## Introduction"
   ]
  },
  {
   "cell_type": "markdown",
   "metadata": {},
   "source": [
    "## Systems and Methods"
   ]
  },
  {
   "cell_type": "markdown",
   "metadata": {},
   "source": [
    "### Materials"
   ]
  },
  {
   "cell_type": "markdown",
   "metadata": {},
   "source": [
    "Download the ISISC dataset (2019). The data may be found in this [link](https://challenge.isic-archive.com/data/#2019)."
   ]
  },
  {
   "cell_type": "code",
   "execution_count": 25,
   "metadata": {},
   "outputs": [
    {
     "name": "stdout",
     "output_type": "stream",
     "text": [
      "Downloaded train_metadata to /home/mariopasc/Uni/Computational_Learning/Lab2/taskA_output/data/train/metadata/ISIC_2019_Training_Metadata.csv.\n",
      "Downloaded train_ground_truth to /home/mariopasc/Uni/Computational_Learning/Lab2/taskA_output/data/train/ground_truth/ISIC_2019_Training_GroundTruth.csv.\n",
      "Downloaded test_metadata to /home/mariopasc/Uni/Computational_Learning/Lab2/taskA_output/data/test/ISIC_2019_Test_Metadata.csv.\n"
     ]
    }
   ],
   "source": [
    "def download_isic_dataset(output_folder: Union[str, os.PathLike]) -> Dict[str, str]:\n",
    "    \"\"\"\n",
    "    Downloads ISIC Challenge dataset files into the specified folder structure.\n",
    "\n",
    "    Parameters:\n",
    "    output_folder (Union[str, os.PathLike]): The path to the output directory where files will be saved.\n",
    "\n",
    "    Returns:\n",
    "    None\n",
    "\n",
    "    Raises:\n",
    "    Exception: If an error occurs during file download, logs the error in \"errors.log\".\n",
    "    \"\"\"\n",
    "    # URLs for the ISIC Challenge dataset\n",
    "    urls = {\n",
    "        \"train_metadata\": \"https://isic-challenge-data.s3.amazonaws.com/2019/ISIC_2019_Training_Metadata.csv\",\n",
    "        \"train_ground_truth\": \"https://isic-challenge-data.s3.amazonaws.com/2019/ISIC_2019_Training_GroundTruth.csv\",\n",
    "        \"test_metadata\": \"https://isic-challenge-data.s3.amazonaws.com/2019/ISIC_2019_Test_Metadata.csv\"\n",
    "    }\n",
    "    \n",
    "    # File paths where each file should be saved\n",
    "    paths = {\n",
    "        \"train_metadata\": os.path.join(output_folder, \"data\", \"train\", \"metadata\", \"ISIC_2019_Training_Metadata.csv\"),\n",
    "        \"train_ground_truth\": os.path.join(output_folder, \"data\", \"train\", \"ground_truth\", \"ISIC_2019_Training_GroundTruth.csv\"),\n",
    "        \"test_metadata\": os.path.join(output_folder, \"data\", \"test\", \"ISIC_2019_Test_Metadata.csv\")\n",
    "    }\n",
    "\n",
    "    for key, url in urls.items():\n",
    "        try:\n",
    "            # Download file and save it to the corresponding path\n",
    "            response = requests.get(url)\n",
    "            response.raise_for_status()  # Raises HTTPError for bad responses (4xx, 5xx)\n",
    "            \n",
    "            # Write file content to the destination path\n",
    "            with open(paths[key], \"wb\") as file:\n",
    "                file.write(response.content)\n",
    "            print(f\"Downloaded {key} to {paths[key]}.\")\n",
    "\n",
    "        except Exception as e:\n",
    "            # Log any errors during download\n",
    "            logging.error(f\"Failed to download {key} from {url}: {e}\")\n",
    "\n",
    "    return paths\n",
    "\n",
    "data_paths = download_isic_dataset(output_folder=OUTPUT_FOLDER)"
   ]
  },
  {
   "cell_type": "markdown",
   "metadata": {},
   "source": [
    "### Methodology"
   ]
  }
 ],
 "metadata": {
  "kernelspec": {
   "display_name": "coronariografias",
   "language": "python",
   "name": "python3"
  },
  "language_info": {
   "codemirror_mode": {
    "name": "ipython",
    "version": 3
   },
   "file_extension": ".py",
   "mimetype": "text/x-python",
   "name": "python",
   "nbconvert_exporter": "python",
   "pygments_lexer": "ipython3",
   "version": "3.10.14"
  }
 },
 "nbformat": 4,
 "nbformat_minor": 2
}
